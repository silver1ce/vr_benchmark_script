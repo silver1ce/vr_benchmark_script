{
 "cells": [
  {
   "cell_type": "markdown",
   "metadata": {},
   "source": [
    "19.3.2023, 10/11"
   ]
  },
  {
   "cell_type": "markdown",
   "metadata": {},
   "source": [
    "# Tiedostoon kirjoittaminen"
   ]
  },
  {
   "cell_type": "markdown",
   "metadata": {},
   "source": [
    "## tavoitteet\n",
    "\n",
    "- osaa kirjoittaa teksti- ja csv-tiedostoon\n",
    "- osaa sijoittaa tiedoston annettuun kansioon\n",
    "- osaa refaktoroida olemassaolevaa koodia vastaamaan uusia vaatimuksia"
   ]
  },
  {
   "cell_type": "code",
   "execution_count": 96,
   "metadata": {},
   "outputs": [],
   "source": [
    "# luodaan uusi tiedosto\n",
    "with open(\"tiedostot/uusi_tiedosto.txt\", 'w') as tiedosto:\n",
    "    tiedosto.write('tässä uusi tiedosto')"
   ]
  },
  {
   "cell_type": "markdown",
   "metadata": {},
   "source": [
    "'w', kun tiedosto avataan, koko sisältö ylikirjoitaan"
   ]
  },
  {
   "cell_type": "code",
   "execution_count": 97,
   "metadata": {},
   "outputs": [],
   "source": [
    "# voi lisätä osissa, mutta ei vaihda riviä\n",
    "with open('tiedostot/uusi_tiedosto.txt', 'w') as tiedosto:\n",
    "    tiedosto.write('ensimmäinen rivi')\n",
    "    tiedosto.write('toinen rivi')\n",
    "    tiedosto.write('kolmas rivi')"
   ]
  },
  {
   "cell_type": "code",
   "execution_count": 98,
   "metadata": {},
   "outputs": [],
   "source": [
    "# lisää rivin vaihto\n",
    "with open('tiedostot/uusi_tiedosto.txt', 'w', encoding='utf8') as tiedosto:\n",
    "    tiedosto.write('ensimmäinen rivi\\n')\n",
    "    tiedosto.write('toinen rivi\\n')\n",
    "    tiedosto.write('kolmas rivi\\n')"
   ]
  },
  {
   "cell_type": "markdown",
   "metadata": {},
   "source": [
    "a = append, lisää tiedostoon riviin"
   ]
  },
  {
   "cell_type": "code",
   "execution_count": 99,
   "metadata": {},
   "outputs": [],
   "source": [
    "# lisätään tiedostoon, huom! 'a'\n",
    "\n",
    "with open('tiedostot/uusi_tiedosto.txt', 'a', encoding='utf8') as tiedosto:\n",
    "    tiedosto.write('neljäs rivi\\n')\n",
    "    tiedosto.write('viides rivi\\n')"
   ]
  },
  {
   "cell_type": "code",
   "execution_count": 100,
   "metadata": {},
   "outputs": [],
   "source": [
    "# luodaan csv-tiedosto\n",
    "with open('tiedostot/koodarit.csv', 'w') as tiedosto:\n",
    "    tiedosto.write(\"Erkki;Windows;Pascal;10\\n\")\n",
    "    tiedosto.write(\"Matti;Linux;PHP;2\\n\")\n",
    "    tiedosto.write('Antti;Linux;Java;17\\n')\n",
    "    tiedosto.write('Emilia;Mac;Cobol;9\\n')"
   ]
  },
  {
   "cell_type": "markdown",
   "metadata": {},
   "source": [
    "listan lisääminen csv-tiedostoon"
   ]
  },
  {
   "cell_type": "code",
   "execution_count": 101,
   "metadata": {},
   "outputs": [
    {
     "name": "stdout",
     "output_type": "stream",
     "text": [
      "[['Erkki', 'Windows', 'Pascal', 10], ['Matti', 'Linux', 'Pascal', 2], ['Antti', 'Linux', 'Java', 17], ['Emilia', 'Mac', 'Cobol', 9]]\n"
     ]
    }
   ],
   "source": [
    "koodarit = []\n",
    "\n",
    "koodarit.append([\"Erkki\", \"Windows\", \"Pascal\", 10])\n",
    "koodarit.append([\"Matti\", \"Linux\", \"Pascal\", 2])\n",
    "koodarit.append([\"Antti\", \"Linux\", \"Java\", 17])\n",
    "koodarit.append([\"Emilia\", \"Mac\", \"Cobol\", 9])\n",
    "\n",
    "print(koodarit)"
   ]
  },
  {
   "cell_type": "code",
   "execution_count": 102,
   "metadata": {},
   "outputs": [],
   "source": [
    "# lisätään lista tiedostoon\n",
    "with open(\"tiedostot/koodarit.csv\", 'w') as tiedosto:\n",
    "    for koodari in koodarit:\n",
    "        rivi = f'{koodari[0]};{koodari[1]};{koodari[2]};{koodari[3]}'\n",
    "        tiedosto.write(rivi+\"\\n\") "
   ]
  },
  {
   "cell_type": "code",
   "execution_count": 103,
   "metadata": {},
   "outputs": [],
   "source": [
    "# jos ei tiedetä kuinka monta riviä on\n",
    "with open(\"tiedostot/koodarit.csv\", 'w') as tiedosto:\n",
    "    for koodari in koodarit:\n",
    "        rivi = \"\"\n",
    "        for arvo in koodari: \n",
    "            rivi += f\"{arvo};\"\n",
    "        rivi = rivi[:-1]\n",
    "        tiedosto.write(rivi+\"\\n\") "
   ]
  },
  {
   "cell_type": "markdown",
   "metadata": {},
   "source": [
    "pass"
   ]
  },
  {
   "cell_type": "code",
   "execution_count": 104,
   "metadata": {},
   "outputs": [],
   "source": [
    "# tyhjentää olemassaolevan tiedoston\n",
    "with open('tiedostot/koodarit.csv', 'w') as tiedosto:\n",
    "    pass"
   ]
  },
  {
   "cell_type": "markdown",
   "metadata": {},
   "source": [
    "close"
   ]
  },
  {
   "cell_type": "code",
   "execution_count": 105,
   "metadata": {},
   "outputs": [],
   "source": [
    "# tyhjentää tiedoston\n",
    "\n",
    "open('tiedostot/uusi_tiedosto.txt', 'w').close()"
   ]
  },
  {
   "cell_type": "markdown",
   "metadata": {},
   "source": [
    "remove\n"
   ]
  },
  {
   "cell_type": "code",
   "execution_count": 106,
   "metadata": {},
   "outputs": [],
   "source": [
    "# poistaa tiedoston järjestelmästä\n",
    "import os\n",
    "\n",
    "os.remove('tiedostot/uusi_tiedosto.txt')\n",
    "os.remove('tiedostot/koodarit.csv')"
   ]
  },
  {
   "cell_type": "markdown",
   "metadata": {},
   "source": [
    "Teht 1.  Omistuskirjoitus / mooc\n",
    "\n",
    "Tee ohjelma, joka kysyy nimeä ja luo \"omistuskirjoituksen\" käyttäjän haluamaan tiedostoon. Seuraavassa ohjelman esimerkkisuoritus:\n",
    "\n",
    "Kenelle teos omistetaan: Arto\n",
    "\n",
    "Mihin kirjoitetaan: omistettu.txt\n",
    "\n",
    "Tiedoston omistettu.txt sisällöksi tulee\n",
    "\n",
    "Hei Arto, toivomme viihtyisiä hetkiä python-kurssimateriaalin parissa! Terveisin mooc.fi-tiimi"
   ]
  },
  {
   "cell_type": "code",
   "execution_count": 72,
   "metadata": {},
   "outputs": [],
   "source": [
    "# teht"
   ]
  },
  {
   "cell_type": "markdown",
   "metadata": {},
   "source": [
    "teht 2.  Päiväkirja /mooc\n",
    "\n",
    "Tee ohjelma, joka mallintaa yksinkertaista päiväkirjaa. Ohjelman tulee tallentaa päiväkirjamerkinnät tiedostoon paivakirja.txt. Kun ohjelma käynnistetään, se lukee merkinnät tiedostosta.\n",
    "\n",
    "Huom! Paikalliset testit voivat muuttaa tiedoston sisältöä - kopioi siis tiedosto talteen ennen testien ajamista, jos haluat säilyttää sen sisällön.\n",
    "\n",
    "Ohjelman tulee toimia seuraavan esimerkin mukaisesti:\n",
    "\n",
    "        Esimerkkitulostus\n",
    "        1 - lisää merkintä, 2 - lue merkinnät, 0 - lopeta\n",
    "        Valinta: 1\n",
    "        Anna merkintä: Tänään söin puuroa\n",
    "        Päiväkirja tallennettu\n",
    "\n",
    "        1 - lisää merkintä, 2 - lue merkinnät, 0 - lopeta\n",
    "        Valinta: 2\n",
    "        Merkinnät:\n",
    "        Tänään söin puuroa\n",
    "        1 - lisää merkintä, 2 - lue merkinnät, 0 - lopeta\n",
    "        Valinta: 1\n",
    "        Anna merkintä: Illalla kävin saunassa\n",
    "        Päiväkirja tallennettu\n",
    "\n",
    "        1 - lisää merkintä, 2 - lue merkinnät, 0 - lopeta\n",
    "        Valinta: 2\n",
    "        Merkinnät:\n",
    "        Tänään söin puuroa\n",
    "        Illalla kävin saunassa\n",
    "        1 - lisää merkintä, 2 - lue merkinnät, 0 - lopeta\n",
    "        Valinta: 0\n",
    "        Heippa!\n",
    "\n",
    "Uusi käynnistys:\n",
    "\n",
    "        Esimerkkitulostus\n",
    "        1 - lisää merkintä, 2 - lue merkinnät, 0 - lopeta\n",
    "        Valinta: 2\n",
    "        Merkinnät:\n",
    "        Tänään söin puuroa\n",
    "        Illalla kävin saunassa\n",
    "        1 - lisää merkintä, 2 - lue merkinnät, 0 - lopeta\n",
    "        Valinta: 0\n",
    "        Heippa!\n"
   ]
  },
  {
   "cell_type": "code",
   "execution_count": null,
   "metadata": {},
   "outputs": [],
   "source": [
    "#teht"
   ]
  },
  {
   "cell_type": "markdown",
   "metadata": {},
   "source": [
    "teht 3.  Henkilöt talteen / mooc\n",
    "\n",
    "Kirjoita funktio tallenna_henkilo(henkilo: tuple) joka saa parametrikseen henkilöä kuvaavan tuplen. Tuplessa on seuraavat tiedot tässä järjestyksessä:\n",
    "\n",
    "    Nimi (merkkijono)\n",
    "\n",
    "    Ikä (kokonaisluku)\n",
    "\n",
    "    Pituus (liukuluku)\n",
    "\n",
    "Tallenna henkilön tiedot tiedostoon henkilot.csv olemassa olevien tietojen perään. Tiedot tulee tallentaa muodosssa\n",
    "\n",
    "nimi;ikä;pituus\n",
    "\n",
    "eli yhden henkilön tiedot tulevat yhdelle riville. Jos funktiota esim. kutsuttaisiin parametrien arvoilla \n",
    "\n",
    "(\"Kimmo Kimmonen\", 37, 175.5), \n",
    "\n",
    "ohjelma kirjoittaisi tiedoston loppuun rivin\n",
    "\n",
    "Kimmo Kimmonen;37;175.5"
   ]
  },
  {
   "cell_type": "code",
   "execution_count": null,
   "metadata": {},
   "outputs": [],
   "source": [
    "#teht"
   ]
  },
  {
   "cell_type": "markdown",
   "metadata": {},
   "source": [
    "Lisätehtaviä:\n",
    "\n",
    "1) Kurssin tulokset, osa 4\n",
    "\n",
    "    https://ohjelmointi-23.mooc.fi/osa-6/2-tiedostojen-kirjoittaminen\n",
    "\n",
    "2) Kokeile muuttaa edellisten osan 8 puhelinluetteloa niin, että numerot tallennetaan ja haetaan tiedostosta.\n"
   ]
  }
 ],
 "metadata": {
  "kernelspec": {
   "display_name": "Python 3 (ipykernel)",
   "language": "python",
   "name": "python3"
  },
  "language_info": {
   "codemirror_mode": {
    "name": "ipython",
    "version": 3
   },
   "file_extension": ".py",
   "mimetype": "text/x-python",
   "name": "python",
   "nbconvert_exporter": "python",
   "pygments_lexer": "ipython3",
   "version": "3.9.12"
  },
  "vscode": {
   "interpreter": {
    "hash": "26de051ba29f2982a8de78e945f0abaf191376122a1563185a90213a26c5da77"
   }
  }
 },
 "nbformat": 4,
 "nbformat_minor": 2
}
