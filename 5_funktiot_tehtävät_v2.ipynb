{
 "cells": [
  {
   "attachments": {},
   "cell_type": "markdown",
   "metadata": {},
   "source": [
    "24.3.2023   5/11"
   ]
  },
  {
   "cell_type": "markdown",
   "metadata": {},
   "source": [
    "# Omat funktiot"
   ]
  },
  {
   "attachments": {},
   "cell_type": "markdown",
   "metadata": {},
   "source": [
    "## Tavoitteet\n",
    "\n",
    "- osaa luoda oman funktion\n",
    "- osaa käyttää parametreja omassa funktiossa\n",
    "\n",
    "https://www.pythoncheatsheet.org/cheatsheet/functions"
   ]
  },
  {
   "cell_type": "markdown",
   "metadata": {},
   "source": [
    "# Omien funktioiden tekeminen ja muuttujien näkyvyys"
   ]
  },
  {
   "cell_type": "code",
   "execution_count": 1,
   "metadata": {},
   "outputs": [
    {
     "name": "stdout",
     "output_type": "stream",
     "text": [
      "Tämä tulee funktiosta\n",
      "Tämä tulee funktiosta\n",
      "Tämä tulee funktiosta\n"
     ]
    }
   ],
   "source": [
    "# funktio ilman parametria\n",
    "# def define\n",
    "\n",
    "def viesti():\n",
    "    print(\"Tämä tulee funktiosta\")\n",
    "\n",
    "viesti()\n",
    "viesti()            # pääohjelma\n",
    "viesti()            # voi kutsua niin tarvittaessa useita kertoja\n"
   ]
  },
  {
   "cell_type": "code",
   "execution_count": 3,
   "metadata": {},
   "outputs": [
    {
     "name": "stdout",
     "output_type": "stream",
     "text": [
      "Tämä tulee funktiosta\n",
      "Tämä tulee funktiosta\n"
     ]
    }
   ],
   "source": [
    "def viesti():\n",
    "    print(\"Tämä tulee funktiosta\")\n",
    "\n",
    "def main():\n",
    "    viesti()\n",
    "\n",
    "if __name__ == \"__main__\":  # käytetään .py tiedostoissa/moduuleissa osoittamaan pääohjelmaa\n",
    "\n",
    "    main()\n",
    "    viesti()\n",
    "\n",
    "# if __name__ == \"__main__\": -käytöstä\n",
    "\n",
    "# https://www.freecodecamp.org/news/if-name-main-python-example/\n",
    "# https://realpython.com/if-name-main-python/\n",
    "\n",
    "# In Short: It Allows You to Execute Code When the File Runs as a Script, \n",
    "# but Not When It’s Imported as a Module"
   ]
  },
  {
   "cell_type": "markdown",
   "metadata": {},
   "source": [
    "## muuttujien näkyvyys\n",
    "\n",
    "Funktio on yleensä itsenäinen kokonaisuus. Parametrit annetaan tietylle funktiolle, joka palauttaa tietyn tuloksen.\n",
    "\n",
    "Näin funktiota voi testata muusta koodista riippumatta.\n",
    "\n",
    "Globaalia muuttujaa tarvitaan, jos tarvitaan funktioille ylemmän tason tietoa."
   ]
  },
  {
   "cell_type": "code",
   "execution_count": 12,
   "metadata": {},
   "outputs": [
    {
     "name": "stdout",
     "output_type": "stream",
     "text": [
      "testi 1 5\n",
      "testi2 15\n",
      "globaalimuuttuja 15\n"
     ]
    }
   ],
   "source": [
    "# muuttujien näkyvyys\n",
    "\n",
    "\n",
    "\n",
    "def test1():\n",
    "    print('testi 1', muuttuja) # Printtaa globaalin muuttuja\n",
    "\n",
    "def test2():\n",
    "    #print(muuttuja) \n",
    "    global muuttuja   \n",
    "    muuttuja += 10 # nyt global ei Lokaali/funktion paikallinen muuttuja\n",
    "    print('testi2', muuttuja)\n",
    "\n",
    "\n",
    "muuttuja = 5 # Globaali muuttuja\n",
    "\n",
    "test1()\n",
    "test2()  \n",
    "\n",
    "print('globaalimuuttuja', muuttuja)"
   ]
  },
  {
   "cell_type": "code",
   "execution_count": 13,
   "metadata": {},
   "outputs": [
    {
     "name": "stdout",
     "output_type": "stream",
     "text": [
      "laskuri 1\n",
      "5\n",
      "laskuri 2\n",
      "10\n",
      "laskuri 3\n",
      "3\n",
      "laskuri 4\n",
      "1\n",
      "Funktioita kutsuttiin 4 kertaa\n"
     ]
    }
   ],
   "source": [
    "def laske_summa(a, b):\n",
    "    global laskuri\n",
    "    laskuri += 1\n",
    "    print('laskuri', laskuri)\n",
    "    return a + b                        #return palauttaa arvon\n",
    "\n",
    "def laske_erotus(a, b):\n",
    "    global laskuri\n",
    "    laskuri += 1\n",
    "    print('laskuri', laskuri)\n",
    "    return a - b\n",
    "\n",
    "laskuri = 0                 # globaali muuttuja\n",
    "\n",
    "print(laske_summa(2, 3))\n",
    "print(laske_summa(5, 5))\n",
    "print(laske_erotus(5, 2))\n",
    "print(laske_summa(1, 0))\n",
    "print(\"Funktioita kutsuttiin yhteensä\", laskuri, \"kertaa\")"
   ]
  },
  {
   "attachments": {},
   "cell_type": "markdown",
   "metadata": {},
   "source": [
    "Teht 1. Verolaskuri\n",
    "\n",
    "tee funktio, joka laskee veron allaolevan taulukon mukaan\n",
    "\n",
    "käytä ehtorakennetta ja globaalimuuttujaa\n",
    "\n",
    "voit laajentaa vielä kysymällä palkan\n",
    "\n",
    "Verotettava tulo €\t| veroprosentti( %)\n",
    "-|-\n",
    "10000\t   |         0\n",
    "10000-20000\t |       10\n",
    "20000      |          20\n",
    "\n",
    "\n",
    "Esimerkiksi 45 000 euron tuloilla\n",
    "\n",
    "10000 x 0% + 10000 x 10%  + 25000 x 20%  = 6000\n",
    "\n",
    "eli on 0 + 1000 + 5000 = 6000"
   ]
  },
  {
   "cell_type": "code",
   "execution_count": 31,
   "metadata": {},
   "outputs": [
    {
     "name": "stdout",
     "output_type": "stream",
     "text": [
      "vero alussa 0\n",
      "3.ehto, vero\n",
      "Maksettava vero on 6000.0\n"
     ]
    }
   ],
   "source": [
    "#teht\n",
    "\n",
    "def laskeVero(palkka):\n",
    "    global vero \n",
    "    if palkka <= 10000:\n",
    "        vero = 0\n",
    "        print('1 ehto', vero)\n",
    "    elif palkka <=20000:\n",
    "        x = palkka-10000\n",
    "        vero = x * 10/100\n",
    "        print('2. ehto', vero)\n",
    "    else:\n",
    "        # eka 10000\n",
    "        vero = 0\n",
    "        # seuraava 10000\n",
    "        vero = 10000*10/100\n",
    "        # yli 20000\n",
    "        vero += (palkka-20000)*20/100\n",
    "        print('3.ehto, vero')\n",
    "\n",
    "if __name__ == \"__main__\":\n",
    "    vero = 0\n",
    "    print('vero alussa', vero)\n",
    "    laskeVero(int(input(\"anna palkkasumma:\")))\n",
    "    print('Maksettava vero on', vero)"
   ]
  },
  {
   "cell_type": "markdown",
   "metadata": {},
   "source": [
    "## Parametrin nimen ja oletusarvon käyttö"
   ]
  },
  {
   "cell_type": "code",
   "execution_count": 14,
   "metadata": {},
   "outputs": [
    {
     "name": "stdout",
     "output_type": "stream",
     "text": [
      "63\n",
      "90\n",
      "40\n",
      "40\n",
      "50\n"
     ]
    }
   ],
   "source": [
    "# Esim. annetaan oletusarvot parametreille\n",
    "\n",
    "def test(param1=5, param2=10):\n",
    "    return param1*param2\n",
    "\n",
    "print(test(9,7))\n",
    "print(test(9))      # käyttää oletusarvoa toisena parametrina eli 9, 10\n",
    "print(test(param2=5, param1=8))  # voi muuttaa järjestystä eli 8,5\n",
    "print(test(param2=8)) # oletusarvoa voi muuttaa eli 5, 8\n",
    "print(test())   # oletusparametrit"
   ]
  },
  {
   "cell_type": "markdown",
   "metadata": {},
   "source": [
    "## parametrin tyyppi"
   ]
  },
  {
   "cell_type": "code",
   "execution_count": 28,
   "metadata": {},
   "outputs": [
    {
     "name": "stdout",
     "output_type": "stream",
     "text": [
      "Moikka\n",
      "Moikka\n",
      "Moikka\n",
      "5\n",
      "5\n",
      "5\n",
      "[1, 2, 3]\n",
      "[1, 2, 3]\n",
      "[1, 2, 3]\n"
     ]
    }
   ],
   "source": [
    "# Esim. Python tunnistaa tyypin eli sitä ei välttämättä tarvitse määritellä\n",
    "# tässä viesti voi olla mikä tahansa esimerkiksi merkkijono, numero tai lista\n",
    "# kerrat-, muuttujalle suoritetaan laskutoimituksia joten se voi olla vai numero\n",
    "\n",
    "def tulosta_monesti(viesti, kerrat):\n",
    "    while kerrat > 0:\n",
    "        print(viesti)\n",
    "        kerrat -= 1\n",
    "\n",
    "tulosta_monesti(\"Moikka\", 3)\n",
    "tulosta_monesti(5, 3)\n",
    "tulosta_monesti([1,2,3], 3)\n",
    "#tulosta_monesti(\"Moikka\",\"3\")"
   ]
  },
  {
   "cell_type": "code",
   "execution_count": 19,
   "metadata": {},
   "outputs": [
    {
     "name": "stdout",
     "output_type": "stream",
     "text": [
      "Moikka\n",
      "Moikka\n",
      "Moikka\n",
      "3\n",
      "3\n",
      "3\n"
     ]
    }
   ],
   "source": [
    "# Esim. Muuttujille voidaan määritellä tyypit\n",
    "\n",
    "def tulosta_monesti(viesti : str, kerrat : int):\n",
    "    while kerrat > 0:\n",
    "        print(viesti)\n",
    "        kerrat -= 1\n",
    "\n",
    "tulosta_monesti(\"Moikka\", 3)\n",
    "tulosta_monesti(3,3)"
   ]
  },
  {
   "cell_type": "code",
   "execution_count": 20,
   "metadata": {},
   "outputs": [
    {
     "name": "stdout",
     "output_type": "stream",
     "text": [
      "moikka anna\n"
     ]
    }
   ],
   "source": [
    "# Tyyppimäärittely voidaan tehdä myös funktion ulkopuolella merkitsemällä se nuolella ->\n",
    "def kysy_nimi() -> str:\n",
    "    nimi = input(\"Mikä on nimesi? \")\n",
    "    return nimi\n",
    "\n",
    "print('moikka', kysy_nimi())"
   ]
  },
  {
   "cell_type": "markdown",
   "metadata": {},
   "source": [
    "## Funktion sisäkkäinen kutsu"
   ]
  },
  {
   "cell_type": "code",
   "execution_count": 21,
   "metadata": {},
   "outputs": [
    {
     "name": "stdout",
     "output_type": "stream",
     "text": [
      "tulostus Moikka\n",
      "tulostus Moikka\n",
      "tulostus Moikka\n"
     ]
    }
   ],
   "source": [
    "# sisäkkäinen kutsu\n",
    "# funktiota voidaan kutsua toisen funktion sisällä\n",
    "\n",
    "def tulosta(viesti):\n",
    "    print('tulostus', viesti)\n",
    "\n",
    "def tulosta_monesti(viesti : str, kerrat : int):\n",
    "    while kerrat > 0:\n",
    "        tulosta(viesti) # sisäkkäinen kutsu\n",
    "        kerrat -= 1\n",
    "\n",
    "tulosta_monesti(\"Moikka\", 3)"
   ]
  },
  {
   "cell_type": "markdown",
   "metadata": {},
   "source": [
    "## pakolliset parametrit"
   ]
  },
  {
   "cell_type": "code",
   "execution_count": 25,
   "metadata": {},
   "outputs": [
    {
     "name": "stdout",
     "output_type": "stream",
     "text": [
      "(50, 30, 400)\n"
     ]
    }
   ],
   "source": [
    "# pakolliset parametrit\n",
    "\n",
    "# kirjoita ohjelma joka laskee kahden luvun summan ja erotuksen (3)\n",
    "\n",
    "def laske(a,b):\n",
    "    #summa = a+b\n",
    "    #vahennys = a-b\n",
    "    #pilkku palautettavien muuttujien väliin\n",
    "    #return summa, vahennys # \n",
    "    return a+b, a-b, a*b\n",
    "    \n",
    "yhteensa = laske(40,10)\n",
    "print(yhteensa)"
   ]
  },
  {
   "cell_type": "code",
   "execution_count": 26,
   "metadata": {},
   "outputs": [
    {
     "name": "stdout",
     "output_type": "stream",
     "text": [
      "Nimi Ville palkka 2000\n",
      "Nimi Maija palkka 3000\n"
     ]
    }
   ],
   "source": [
    "# avain-arvo parametrit (key -value) ja oletusparametri\n",
    "\n",
    "# kirjoita ohjelma oletusparamerilla\n",
    "# pyytää ja tulostaa työntekijän nimen ja palkan\n",
    "# jos palkkaa ei anneta, ohjelmaa tulostaa oletuspalkan 3000\n",
    "\n",
    "#Oletustulostus\n",
    "# Nimi: Ville palkka: 2000\n",
    "# Nimi: Maija palkka: 3000\n",
    "def naytaTyontekija(nimi, palkka=3000):\n",
    "    print(\"Nimi\", nimi, \"palkka\", palkka)\n",
    "naytaTyontekija(\"Ville\", 2000)\n",
    "naytaTyontekija(\"Maija\")"
   ]
  },
  {
   "cell_type": "markdown",
   "metadata": {},
   "source": [
    "## muuttujien määrä vaihtelee argumenttien määrän mukaan\n",
    "\n",
    "*args -parametri"
   ]
  },
  {
   "cell_type": "code",
   "execution_count": 27,
   "metadata": {},
   "outputs": [
    {
     "name": "stdout",
     "output_type": "stream",
     "text": [
      "20\n",
      "40\n",
      "60\n",
      "70\n",
      "90\n",
      "\n",
      "80\n",
      "100\n"
     ]
    }
   ],
   "source": [
    "# Esim.\n",
    "\n",
    "def montaMuuttujaa(*args):\n",
    "    for i in args:\n",
    "        print(i)\n",
    "\n",
    "# 5 muuttujaa\n",
    "montaMuuttujaa(20, 40, 60, 70, 90)\n",
    "\n",
    "print()\n",
    "\n",
    "# 2 muuttujaa\n",
    "montaMuuttujaa(80, 100)"
   ]
  },
  {
   "attachments": {},
   "cell_type": "markdown",
   "metadata": {},
   "source": [
    "TEHT 2. Ensimmäinen merkki / MOOC\n",
    "\n",
    "Täydennä koodipohjassa oleva funktio ensimmainen siten, että se tulostaa parametrinaan saamansa merkkijonon ensimmäisen merkin.\n",
    "\n",
    "esimerkkitulostus\n",
    "\n",
    "     p\n",
    "     y\n",
    "     t\n",
    "     h\n",
    "     o\n",
    "     n\n",
    "\n",
    "def ensimmainen(merkkijono):\n",
    "\n",
    "          # kirjoita koodia tähän\n",
    "\n",
    "kokeillaan funktiota:\n",
    "\n",
    "if __name__ == \"__main__\":\n",
    "\n",
    "     ensimmainen('paikka')\n",
    "     ensimmainen('yhtälö')\n",
    "     ensimmainen('tieto')\n",
    "     ensimmainen('huominen')\n",
    "     ensimmainen('omena')\n",
    "     ensimmainen('nukkumaanmenoaika')"
   ]
  },
  {
   "cell_type": "code",
   "execution_count": 32,
   "metadata": {},
   "outputs": [
    {
     "name": "stdout",
     "output_type": "stream",
     "text": [
      "p\n",
      "y\n",
      "t\n",
      "h\n",
      "o\n",
      "n\n"
     ]
    }
   ],
   "source": [
    "#teht\n",
    "\n",
    "def ensimmainen(merkkijono):\n",
    "    print(merkkijono[0])\n",
    "\n",
    "ensimmainen('paikka')\n",
    "ensimmainen('yhtälö')\n",
    "ensimmainen('tieto')\n",
    "ensimmainen('huominen')\n",
    "ensimmainen('omena')\n",
    "ensimmainen('nukkumaanmenoaika')"
   ]
  },
  {
   "attachments": {},
   "cell_type": "markdown",
   "metadata": {},
   "source": [
    "TEHT 3. tulosta monesti / MOOC\n",
    "\n",
    "Tee funktio tulosta_monesti(merkkijono, kertaa), joka saa parametriksi merkkijonon sekä kokonaisluvun, joka kertoo, montako kertaa funktion tulee tulostaa parametrina saamansa merkkijono:\n",
    "\n",
    "\n",
    "    if __name__ == \"__main__\": (tätä voi käyttää tai jättää tässä vaiheessa pois)\n",
    "        tulosta_monesti(\"hei\", 5)\n",
    "        print()\n",
    "        merkkijono = \"Alussa olivat suo, kuokka ja Python\"\n",
    "        kertaa = 3\n",
    "        tulosta_monesti(merkkijono, kertaa)\n",
    "\n",
    "Esimerkkitulostus\n",
    "\n",
    "    hei\n",
    "    hei\n",
    "    hei\n",
    "    hei\n",
    "    hei\n",
    "\n",
    "    Alussa olivat suo, kuokka ja Python.\n",
    "    Alussa olivat suo, kuokka ja Python.\n",
    "    Alussa olivat suo, kuokka ja Python."
   ]
  },
  {
   "cell_type": "code",
   "execution_count": 34,
   "metadata": {},
   "outputs": [
    {
     "name": "stdout",
     "output_type": "stream",
     "text": [
      "hei\n",
      "hei\n",
      "hei\n",
      "hei\n",
      "hei\n",
      "\n",
      "Alussa olivat suo, kuokka ja Python\n",
      "Alussa olivat suo, kuokka ja Python\n",
      "Alussa olivat suo, kuokka ja Python\n"
     ]
    }
   ],
   "source": [
    "#teht\n",
    "def tulosta_monesti(merkkijono, kertaa):\n",
    "    for _ in range(kertaa):\n",
    "        print(merkkijono)\n",
    "    \n",
    "    # while kertaa > 0:\n",
    "    #     print(merkkijono)\n",
    "    #     kertaa -=1 \n",
    "\n",
    "tulosta_monesti(\"hei\", 5)\n",
    "print()\n",
    "merkkijono = \"Alussa olivat suo, kuokka ja Python\"\n",
    "kertaa = 3\n",
    "tulosta_monesti(merkkijono, kertaa)"
   ]
  },
  {
   "attachments": {},
   "cell_type": "markdown",
   "metadata": {},
   "source": [
    "Teht 4. Risuneliö / MOOC\n",
    "\n",
    "Tee funktio risunelio(pituus) joka saa parametriksi kokonaisluvun, joka kertoo kuinka suuri risuneliö funktion pitää tulostaa:\n",
    "\n",
    "        risunelio(3)\n",
    "        print()\n",
    "        risunelio(5)\n",
    "\n",
    "Esimerkkitulostus\n",
    "\n",
    "    ###\n",
    "    ###\n",
    "    ###\n",
    "\n",
    "    #####\n",
    "    #####\n",
    "    #####\n",
    "    #####\n",
    "    #####"
   ]
  },
  {
   "cell_type": "code",
   "execution_count": 36,
   "metadata": {},
   "outputs": [
    {
     "name": "stdout",
     "output_type": "stream",
     "text": [
      "###\n",
      "###\n",
      "###\n",
      "\n",
      "#####\n",
      "#####\n",
      "#####\n",
      "#####\n",
      "#####\n"
     ]
    }
   ],
   "source": [
    "#teht\n",
    "\n",
    "def risunelio(pituus):\n",
    "    i = pituus\n",
    "    while i > 0:\n",
    "        print(\"#\"*pituus)\n",
    "        i -=1\n",
    "\n",
    "risunelio(3)\n",
    "print()\n",
    "risunelio(5)"
   ]
  },
  {
   "attachments": {},
   "cell_type": "markdown",
   "metadata": {},
   "source": [
    "TEHT 5. Sananeliö /MOOC\n",
    "\n",
    "Tee funktio nelio, joka tulostaa sananeliön alla olevien esimerkkien mukaisesti.\n",
    "\n",
    "    sananelio(\"ab\", 3)\n",
    "    print()\n",
    "    sananelio(\"aybabtu\", 5)\n",
    "\n",
    "Esimerkkitulostus\n",
    "\n",
    "    aba\n",
    "    bab\n",
    "    aba\n",
    "\n",
    "    aybab\n",
    "    tuayb\n",
    "    abtua\n",
    "    ybabt\n",
    "    uayba"
   ]
  },
  {
   "cell_type": "code",
   "execution_count": 39,
   "metadata": {},
   "outputs": [
    {
     "name": "stdout",
     "output_type": "stream",
     "text": [
      "abababababababababababababababababababababababababababababababababababababababababababababababababababababababababababababababababababababababababababababababababababababababababababababababababababababababababababababababababababababababababababababababababababababababababababababababababababababababababababababababababababababababababababababababababababababababababababababababababababababababababababababababababababababababababababababababababababababababababababababababababababababababababababababababababababababababababababababababababababababababababababababababababababababababababababababababababababababababababababababababababababababababababababababababababababababababababababababababababababababababababababababababababababababababababababababababababababababababababababababababababababababababababababababababababababababababababababababababababababababababababababababababababababababababababababababababababababababababababababababababababababababababababababababababababababababababababababababababababababababababababababababababababababababababababababababababababababababababababababababababababababababababababababababababababababababababababababababababababababababababababababababababababababababababababababababababababababababababababababababababababababababababababababababababababababababababababababababababababababababababababababababababababababababababababababababababababababababababababababababababababababababababababababababababababababababababababababababababababababababababababababababababababababababababababababababababababababababababababababababababababababababababababababababababababababababababababababababababababababababababababababababababababababababababababababababababababababababababababababababababababababababababababababababababababababababababababababababababababababababababababababababababababababababababababababababababababababababababababababababababababababababababababababababababababababababababababababababababababababababababab\n",
      "aba\n",
      "bab\n",
      "aba\n",
      "\n",
      "aybabtuaybabtuaybabtuaybabtuaybabtuaybabtuaybabtuaybabtuaybabtuaybabtuaybabtuaybabtuaybabtuaybabtuaybabtuaybabtuaybabtuaybabtuaybabtuaybabtuaybabtuaybabtuaybabtuaybabtuaybabtuaybabtuaybabtuaybabtuaybabtuaybabtuaybabtuaybabtuaybabtuaybabtuaybabtuaybabtuaybabtuaybabtuaybabtuaybabtuaybabtuaybabtuaybabtuaybabtuaybabtuaybabtuaybabtuaybabtuaybabtuaybabtuaybabtuaybabtuaybabtuaybabtuaybabtuaybabtuaybabtuaybabtuaybabtuaybabtuaybabtuaybabtuaybabtuaybabtuaybabtuaybabtuaybabtuaybabtuaybabtuaybabtuaybabtuaybabtuaybabtuaybabtuaybabtuaybabtuaybabtuaybabtuaybabtuaybabtuaybabtuaybabtuaybabtuaybabtuaybabtuaybabtuaybabtuaybabtuaybabtuaybabtuaybabtuaybabtuaybabtuaybabtuaybabtuaybabtuaybabtuaybabtuaybabtuaybabtuaybabtuaybabtuaybabtuaybabtuaybabtuaybabtuaybabtuaybabtuaybabtuaybabtuaybabtuaybabtuaybabtuaybabtuaybabtuaybabtuaybabtuaybabtuaybabtuaybabtuaybabtuaybabtuaybabtuaybabtuaybabtuaybabtuaybabtuaybabtuaybabtuaybabtuaybabtuaybabtuaybabtuaybabtuaybabtuaybabtuaybabtuaybabtuaybabtuaybabtuaybabtuaybabtuaybabtuaybabtuaybabtuaybabtuaybabtuaybabtuaybabtuaybabtuaybabtuaybabtuaybabtuaybabtuaybabtuaybabtuaybabtuaybabtuaybabtuaybabtuaybabtuaybabtuaybabtuaybabtuaybabtuaybabtuaybabtuaybabtuaybabtuaybabtuaybabtuaybabtuaybabtuaybabtuaybabtuaybabtuaybabtuaybabtuaybabtuaybabtuaybabtuaybabtuaybabtuaybabtuaybabtuaybabtuaybabtuaybabtuaybabtuaybabtuaybabtuaybabtuaybabtuaybabtuaybabtuaybabtuaybabtuaybabtuaybabtuaybabtuaybabtuaybabtuaybabtuaybabtuaybabtuaybabtuaybabtuaybabtuaybabtuaybabtuaybabtuaybabtuaybabtuaybabtuaybabtuaybabtuaybabtuaybabtuaybabtuaybabtuaybabtuaybabtuaybabtuaybabtuaybabtuaybabtuaybabtuaybabtuaybabtuaybabtuaybabtuaybabtuaybabtuaybabtuaybabtuaybabtuaybabtuaybabtuaybabtuaybabtuaybabtuaybabtuaybabtuaybabtuaybabtuaybabtuaybabtuaybabtuaybabtuaybabtuaybabtuaybabtuaybabtuaybabtuaybabtuaybabtuaybabtuaybabtuaybabtuaybabtuaybabtuaybabtuaybabtuaybabtuaybabtuaybabtuaybabtuaybabtuaybabtuaybabtuaybabtuaybabtuaybabtuaybabtuaybabtuaybabtuaybabtuaybabtuaybabtuaybabtuaybabtuaybabtuaybabtuaybabtuaybabtuaybabtuaybabtuaybabtuaybabtuaybabtuaybabtuaybabtuaybabtuaybabtuaybabtuaybabtuaybabtuaybabtuaybabtuaybabtuaybabtuaybabtuaybabtuaybabtuaybabtuaybabtuaybabtuaybabtuaybabtuaybabtuaybabtuaybabtuaybabtuaybabtuaybabtuaybabtuaybabtuaybabtuaybabtuaybabtuaybabtuaybabtuaybabtuaybabtuaybabtuaybabtuaybabtuaybabtuaybabtuaybabtuaybabtuaybabtuaybabtuaybabtuaybabtuaybabtuaybabtuaybabtuaybabtuaybabtuaybabtuaybabtuaybabtuaybabtuaybabtuaybabtuaybabtuaybabtuaybabtuaybabtuaybabtuaybabtuaybabtuaybabtuaybabtuaybabtuaybabtuaybabtuaybabtuaybabtuaybabtuaybabtuaybabtuaybabtuaybabtuaybabtuaybabtuaybabtuaybabtuaybabtuaybabtuaybabtuaybabtuaybabtuaybabtuaybabtuaybabtuaybabtuaybabtuaybabtuaybabtuaybabtuaybabtuaybabtuaybabtuaybabtuaybabtuaybabtuaybabtuaybabtuaybabtuaybabtuaybabtuaybabtuaybabtuaybabtuaybabtuaybabtuaybabtuaybabtuaybabtuaybabtuaybabtuaybabtuaybabtuaybabtuaybabtuaybabtuaybabtuaybabtuaybabtuaybabtuaybabtuaybabtuaybabtuaybabtuaybabtuaybabtuaybabtuaybabtuaybabtuaybabtuaybabtuaybabtuaybabtuaybabtuaybabtuaybabtuaybabtuaybabtuaybabtuaybabtuaybabtuaybabtuaybabtuaybabtuaybabtuaybabtuaybabtuaybabtuaybabtuaybabtuaybabtuaybabtuaybabtuaybabtuaybabtuaybabtuaybabtuaybabtuaybabtuaybabtuaybabtuaybabtuaybabtuaybabtuaybabtuaybabtuaybabtuaybabtuaybabtuaybabtuaybabtuaybabtuaybabtuaybabtuaybabtuaybabtuaybabtuaybabtuaybabtuaybabtuaybabtuaybabtuaybabtuaybabtuaybabtuaybabtuaybabtuaybabtuaybabtuaybabtuaybabtuaybabtuaybabtuaybabtuaybabtuaybabtuaybabtuaybabtuaybabtuaybabtuaybabtuaybabtuaybabtuaybabtuaybabtuaybabtuaybabtuaybabtuaybabtuaybabtuaybabtuaybabtuaybabtuaybabtuaybabtuaybabtuaybabtuaybabtuaybabtuaybabtuaybabtuaybabtuaybabtuaybabtuaybabtuaybabtuaybabtuaybabtuaybabtuaybabtuaybabtuaybabtuaybabtuaybabtuaybabtuaybabtuaybabtuaybabtuaybabtuaybabtuaybabtuaybabtuaybabtuaybabtuaybabtuaybabtuaybabtuaybabtuaybabtuaybabtuaybabtuaybabtuaybabtuaybabtuaybabtuaybabtuaybabtuaybabtuaybabtuaybabtuaybabtuaybabtuaybabtuaybabtuaybabtuaybabtuaybabtuaybabtuaybabtuaybabtuaybabtuaybabtuaybabtuaybabtuaybabtuaybabtuaybabtuaybabtuaybabtuaybabtuaybabtuaybabtuaybabtuaybabtuaybabtuaybabtuaybabtuaybabtuaybabtuaybabtuaybabtuaybabtuaybabtuaybabtuaybabtuaybabtuaybabtuaybabtuaybabtuaybabtuaybabtuaybabtuaybabtuaybabtuaybabtuaybabtuaybabtuaybabtuaybabtuaybabtuaybabtuaybabtuaybabtuaybabtuaybabtuaybabtuaybabtuaybabtuaybabtuaybabtuaybabtuaybabtuaybabtuaybabtuaybabtuaybabtuaybabtuaybabtuaybabtuaybabtuaybabtuaybabtuaybabtuaybabtuaybabtuaybabtuaybabtuaybabtuaybabtuaybabtuaybabtuaybabtuaybabtuaybabtuaybabtuaybabtuaybabtuaybabtuaybabtuaybabtuaybabtuaybabtuaybabtuaybabtuaybabtuaybabtuaybabtuaybabtuaybabtuaybabtuaybabtuaybabtuaybabtuaybabtuaybabtuaybabtuaybabtuaybabtuaybabtuaybabtuaybabtuaybabtuaybabtuaybabtuaybabtuaybabtuaybabtuaybabtuaybabtuaybabtuaybabtuaybabtuaybabtuaybabtuaybabtuaybabtuaybabtuaybabtuaybabtuaybabtuaybabtuaybabtuaybabtuaybabtuaybabtuaybabtuaybabtuaybabtuaybabtuaybabtuaybabtuaybabtuaybabtuaybabtuaybabtuaybabtuaybabtuaybabtuaybabtuaybabtuaybabtuaybabtuaybabtuaybabtuaybabtuaybabtuaybabtuaybabtuaybabtuaybabtuaybabtuaybabtuaybabtuaybabtuaybabtuaybabtuaybabtuaybabtuaybabtuaybabtuaybabtuaybabtuaybabtuaybabtuaybabtuaybabtuaybabtuaybabtuaybabtuaybabtuaybabtuaybabtuaybabtuaybabtuaybabtuaybabtuaybabtuaybabtuaybabtuaybabtuaybabtuaybabtuaybabtuaybabtuaybabtuaybabtuaybabtuaybabtuaybabtuaybabtuaybabtuaybabtuaybabtuaybabtuaybabtuaybabtuaybabtuaybabtuaybabtuaybabtuaybabtuaybabtuaybabtuaybabtuaybabtuaybabtuaybabtuaybabtuaybabtuaybabtuaybabtuaybabtuaybabtuaybabtuaybabtuaybabtuaybabtuaybabtuaybabtuaybabtuaybabtuaybabtuaybabtuaybabtuaybabtuaybabtuaybabtuaybabtuaybabtuaybabtuaybabtuaybabtuaybabtuaybabtuaybabtuaybabtuaybabtuaybabtuaybabtuaybabtuaybabtuaybabtuaybabtuaybabtuaybabtuaybabtuaybabtuaybabtuaybabtuaybabtuaybabtuaybabtuaybabtuaybabtuaybabtuaybabtuaybabtuaybabtuaybabtuaybabtuaybabtuaybabtuaybabtuaybabtuaybabtuaybabtuaybabtuaybabtuaybabtuaybabtuaybabtuaybabtuaybabtuaybabtuaybabtuaybabtuaybabtuaybabtuaybabtuaybabtuaybabtuaybabtuaybabtuaybabtuaybabtuaybabtuaybabtuaybabtuaybabtuaybabtuaybabtuaybabtuaybabtuaybabtuaybabtuaybabtuaybabtuaybabtuaybabtuaybabtuaybabtuaybabtuaybabtuaybabtuaybabtuaybabtuaybabtuaybabtuaybabtuaybabtuaybabtuaybabtuaybabtuaybabtuaybabtuaybabtuaybabtuaybabtuaybabtuaybabtuaybabtuaybabtuaybabtuaybabtuaybabtuaybabtuaybabtuaybabtuaybabtuaybabtuaybabtuaybabtuaybabtuaybabtuaybabtuaybabtuaybabtuaybabtuaybabtuaybabtuaybabtuaybabtuaybabtuaybabtuaybabtuaybabtuaybabtuaybabtuaybabtuaybabtuaybabtuaybabtuaybabtuaybabtuaybabtuaybabtuaybabtuaybabtuaybabtuaybabtuaybabtuaybabtuaybabtuaybabtuaybabtuaybabtuaybabtuaybabtuaybabtuaybabtuaybabtuaybabtuaybabtuaybabtuaybabtuaybabtuaybabtuaybabtuaybabtuaybabtuaybabtuaybabtuaybabtuaybabtuaybabtuaybabtuaybabtuaybabtuaybabtuaybabtuaybabtuaybabtuaybabtuaybabtuaybabtuaybabtuaybabtuaybabtuaybabtuaybabtuaybabtuaybabtuaybabtuaybabtuaybabtuaybabtuaybabtuaybabtuaybabtuaybabtuaybabtuaybabtuaybabtuaybabtuaybabtuaybabtuaybabtuaybabtuaybabtuaybabtuaybabtuaybabtuaybabtuaybabtuaybabtuaybabtuaybabtuaybabtuaybabtuaybabtuaybabtuaybabtuaybabtuaybabtuaybabtuaybabtuaybabtuaybabtu\n",
      "aybab\n",
      "tuayb\n",
      "abtua\n",
      "ybabt\n",
      "uayba\n",
      "\n"
     ]
    }
   ],
   "source": [
    "# teht\n",
    "\n",
    "def sananelio(merkkijono, kertaa):\n",
    "    #pitka_sana = merkkijono*int((kertaa*kertaa/len(merkkijono)+1))\n",
    "    pitka_sana = merkkijono*1000\n",
    "    #print(pitka_sana)\n",
    "    kerros = 0\n",
    "    indeksi = 0\n",
    "    while kerros < kertaa:\n",
    "        print(pitka_sana[indeksi:indeksi+kertaa])\n",
    "        kerros +=1\n",
    "        indeksi += kertaa\n",
    "\n",
    "sananelio(\"ab\", 3)\n",
    "print()\n",
    "sananelio(\"aybabtu\", 5)\n",
    "print()\n",
    "\n",
    "\n"
   ]
  },
  {
   "attachments": {},
   "cell_type": "markdown",
   "metadata": {},
   "source": [
    "TEHT 6 Viiva MOOC\n",
    "\n",
    "Tee funktio viiva, joka saa kaksi parametria (leveys, merkkijono).\n",
    "\n",
    "Funktio tulostaa ensimmäisen parametrin määrittämän pituisen viivankäyttäen toisena parametrina olevan merkkijonon ensimmäistä merkkiä.\n",
    "\n",
    "Jos parametrina oleva merkkijono on tyhjä, tulostuu viiva tähtinä.\n",
    "\n",
    "Esimerkkitulostus:\n",
    "\n",
    "    %%%%%%%\n",
    "    LLLLLLLLLL\n",
    "    ***\n",
    "\n",
    "    viiva(7, \"%\")\n",
    "    viiva(10, \"LOL\")    \n",
    "    viiva(3, \"\")"
   ]
  },
  {
   "cell_type": "code",
   "execution_count": 40,
   "metadata": {},
   "outputs": [
    {
     "name": "stdout",
     "output_type": "stream",
     "text": [
      "%%%%%%%\n",
      "LLLLLLLLLL\n",
      "***\n"
     ]
    }
   ],
   "source": [
    "#teht\n",
    "\n",
    "def viiva(leveys,merkkijono):\n",
    "    if merkkijono== \"\":\n",
    "        merkkijono = \"*\"\n",
    "    print(merkkijono[0]*leveys)\n",
    "\n",
    "viiva(7, \"%\")\n",
    "viiva(10, \"LOL\")    \n",
    "viiva(3, \"\")\n",
    "\n"
   ]
  },
  {
   "attachments": {},
   "cell_type": "markdown",
   "metadata": {},
   "source": [
    "TEHT 7 Risulaatikko /MOOC\n",
    "\n",
    "Tee funktio risulaatikko, joka piirtää risuaitamerkkiä käyttäen parametrinsa korkuisen, kymmenen merkkiä leveän risulaatikon.\n",
    "\n",
    "Funktion tulee kutsua edellisen tehtävän funktiota viiva kaiken tulostuksen tekemiseen!\n",
    "\n",
    "Kopioi edellisen tehtävän funktion koodi tämän tehtävän funktion koodin yläpuolelle. Älä muuta funktiota mitenkaan!\n",
    "\n",
    "Esimerkkitulostus\n",
    "\n",
    "    ##########\n",
    "    ##########\n",
    "    ##########\n",
    "    ##########\n",
    "    ##########\n",
    "\n",
    "    ##########\n",
    "    ##########\n",
    "\n",
    "        risulaatikko(5)\n",
    "        print()\n",
    "        risulaatikko(2)"
   ]
  },
  {
   "cell_type": "code",
   "execution_count": 34,
   "metadata": {},
   "outputs": [],
   "source": [
    "#teht"
   ]
  },
  {
   "attachments": {},
   "cell_type": "markdown",
   "metadata": {},
   "source": [
    "Teht 8 Risuneliö /MOOC\n",
    "\n",
    "Tee funktio risunelio, joka piirtää risuaitamerkkiä käyttäen parametrinsa kokoisen risuneliön.\n",
    "\n",
    "Funktion tulee kutsua edellisen tehtävän funktiota viiva kaiken tulostuksen tekemiseen!\n",
    "\n",
    "Kopioi edellisen tehtävän funktion koodi tämän tehtävän funktion koodin yläpuolelle. Älä muuta funktiota mitenkaan!\n",
    "\n",
    "Esimerkkitulostus:\n",
    "\n",
    "    #####\n",
    "    #####\n",
    "    #####\n",
    "    #####\n",
    "    #####\n",
    "\n",
    "    ###\n",
    "    ###\n",
    "    ###\n",
    "\n",
    "        risunelio(5)\n",
    "        print()\n",
    "        risunelio(3)"
   ]
  },
  {
   "cell_type": "code",
   "execution_count": 36,
   "metadata": {},
   "outputs": [],
   "source": [
    "# teht"
   ]
  },
  {
   "attachments": {},
   "cell_type": "markdown",
   "metadata": {},
   "source": [
    "Teht. 9 Neliö / MOOC\n",
    "\n",
    "Tee funktio nelio, joka saa kaksi parametria. Funktio tulostaa neliön jonka korkeuden ja leveyden kertoo ensimmäinen parametri. \n",
    "\n",
    "Toinen parametri määrittelee mitä merkkiä käyttäen neliö piirretään.\n",
    "\n",
    "Funktion tulee kutsua edellisen tehtävän funktiota viiva kaiken tulostuksen tekemiseen! \n",
    "\n",
    "Kopioi edellisen tehtävän funktion koodi tämän tehtävän funktion koodin yläpuolelle. Älä muuta funktiota mitenkaan!\n",
    "\n",
    "esimerkkitulostus\n",
    "\n",
    "    *****\n",
    "    *****\n",
    "    *****\n",
    "    *****\n",
    "    *****\n",
    "\n",
    "    ooo\n",
    "    ooo\n",
    "    ooo\n",
    "\n",
    "\n",
    "        risunelio(5, \"*\")\n",
    "        print()\n",
    "        risunelio(3, \"o\")"
   ]
  },
  {
   "cell_type": "code",
   "execution_count": 38,
   "metadata": {},
   "outputs": [],
   "source": [
    "#teht"
   ]
  },
  {
   "attachments": {},
   "cell_type": "markdown",
   "metadata": {},
   "source": [
    "Teht. 10 Kuvio / MOOC\n",
    "\n",
    "Tee funktio kuvio, joka saa neljä parametria. Funktio tulostaa kuvion, jonka yläosana on kahden ensimmäisen parametrin määrittelemä kolmio ja alaosana ensimmäisen ja kahden jälkimmäisen parametrin määrittelemä suorakulmio.\n",
    "\n",
    "Funktion tulee kutsua edellisen tehtävän funktiota viiva kaiken tulostuksen tekemiseen! \n",
    "\n",
    "Kopioi edellisen tehtävän funktion koodi tämän tehtävän funktion koodin yläpuolelle.\n",
    "\n",
    "esimerkkitulostus\n",
    "\n",
    "    X\n",
    "    XX\n",
    "    XXX\n",
    "    XXXX\n",
    "    XXXXX\n",
    "    *****\n",
    "    *****\n",
    "    *****\n",
    "\n",
    "    o\n",
    "    oo\n",
    "    ++\n",
    "    ++\n",
    "    ++\n",
    "    ++\n",
    "\n",
    "    .\n",
    "    ..\n",
    "    ...\n",
    "\n",
    "   \n",
    "        kuvio(5, \"X\", 3, \"*\")\n",
    "        print()\n",
    "        kuvio(2, \"o\", 4, \"+\")\n",
    "        print()\n",
    "        kuvio(3, \".\", 0, \",\")\n",
    "\n"
   ]
  },
  {
   "cell_type": "code",
   "execution_count": 40,
   "metadata": {},
   "outputs": [],
   "source": [
    "# teht"
   ]
  },
  {
   "attachments": {},
   "cell_type": "markdown",
   "metadata": {},
   "source": [
    "Teht. 11 Joulukuusi / MOOC\n",
    "\n",
    "Tee funktio joulukuusi, joka saa yhden parametrin. Funktio tulostaa tekstin joulukuusi! ja parametrinsa kokoisen joulukuusen.\n",
    "\n",
    "Esim. kutsuttaessa joulukuusi(3) tulostuu\n",
    "\n",
    "    joulukuusi!\n",
    "      *\n",
    "     ***\n",
    "    *****\n",
    "      *\n",
    "\n",
    "Esim. kutsuttaessa joulukuusi(5) tulostuu\n",
    "\n",
    "\n",
    "    joulukuusi!\n",
    "        *\n",
    "       ***\n",
    "      *****\n",
    "     *******\n",
    "    *********\n",
    "        *"
   ]
  },
  {
   "cell_type": "code",
   "execution_count": 42,
   "metadata": {},
   "outputs": [],
   "source": [
    "#teht"
   ]
  },
  {
   "attachments": {},
   "cell_type": "markdown",
   "metadata": {},
   "source": [
    "Teht 12 palindromi\n",
    "\n",
    "Tee funktio palindromi, joka saa parametriksi merkkijonon ja palauttaa True, jos merkkijono on palindromi (eli samansisältöinen luettuna alusta loppuun tai lopusta alkuun).\n",
    "\n",
    "Tee myös funktiota hyödyntävä pääohjelma, joka kyselee käyttäjältä sanojaja kutsuu palindromi-funktiota niin kauan, kunnes käyttäjä syöttää palindromin.\n",
    "\n",
    "Esimerkkitulostus\n",
    "    Anna sana: python\n",
    "    ei ollut palindromi\n",
    "    Anna sana: saippuakauppias\n",
    "    saippuakauppias on palindromi!"
   ]
  },
  {
   "cell_type": "code",
   "execution_count": 44,
   "metadata": {},
   "outputs": [],
   "source": [
    "#teht"
   ]
  },
  {
   "attachments": {},
   "cell_type": "markdown",
   "metadata": {},
   "source": [
    "Teht 13 Alkuluku\n",
    "\n",
    "Tee ohjelma, jossa pyydetään luku ja ohjelma vastaa onko kyseessä alkuluku vai ei\n",
    "\n",
    "Ohjelma voi tarkistaa alussa, että käyttäjä syöttää numeron.\n",
    "\n",
    "https://www.practicepython.org/exercise/2014/04/16/11-check-primality-functions.html\n",
    "\n",
    "https://fi.wikipedia.org/wiki/Alkuluku"
   ]
  },
  {
   "cell_type": "code",
   "execution_count": 46,
   "metadata": {},
   "outputs": [],
   "source": [
    "#teht"
   ]
  }
 ],
 "metadata": {
  "kernelspec": {
   "display_name": "Python 3.10.7 64-bit",
   "language": "python",
   "name": "python3"
  },
  "language_info": {
   "codemirror_mode": {
    "name": "ipython",
    "version": 3
   },
   "file_extension": ".py",
   "mimetype": "text/x-python",
   "name": "python",
   "nbconvert_exporter": "python",
   "pygments_lexer": "ipython3",
   "version": "3.10.8"
  },
  "orig_nbformat": 4,
  "vscode": {
   "interpreter": {
    "hash": "26de051ba29f2982a8de78e945f0abaf191376122a1563185a90213a26c5da77"
   }
  }
 },
 "nbformat": 4,
 "nbformat_minor": 2
}
