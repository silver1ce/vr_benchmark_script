{
 "cells": [
  {
   "attachments": {},
   "cell_type": "markdown",
   "metadata": {},
   "source": [
    "1.Tee funktio viiva, joka saa kaksi parametria (leveys, merkkijono). Funktio tulostaa ensimmäisen parametrin määrittämän pituisen viivan käyttäen toisena parametrina olevan merkkijonon ensimmäistä merkkiä. Jos parametrina oleva merkkijono on tyhjä, tulostuu viiva tähtinä.\n",
    "\n",
    "Käyttöesimerkki:\n",
    "\n",
    "viiva(7, \"%\")\n",
    "viiva(10, \"LOL\")\n",
    "viiva(3, \"\")\n",
    "\n",
    "Esimerkkitulostus\n",
    "%%%%%%%\n",
    "LLLLLLLLLL\n",
    "***"
   ]
  },
  {
   "cell_type": "code",
   "execution_count": 1,
   "metadata": {},
   "outputs": [
    {
     "name": "stdout",
     "output_type": "stream",
     "text": [
      "%%%%%%%"
     ]
    }
   ],
   "source": [
    "def viiva(leveys = str, merkkijono= int):\n",
    "    for i  in merkkijono:\n",
    "        print(i*leveys, end=\"\")\n",
    "viiva(7, \"%\")"
   ]
  },
  {
   "attachments": {},
   "cell_type": "markdown",
   "metadata": {},
   "source": [
    "2.Tee funktio risulaatikko, joka piirtää risuaitamerkkiä käyttäen parametrinsa korkuisen, kymmenen merkkiä leveän risulaatikon.\n",
    "\n",
    "Funktion tulee kutsua edellisen tehtävän funktiota viiva kaiken tulostuksen tekemiseen! Kopioi edellisen tehtävän funktion koodi tämän tehtävän funktion koodin yläpuolelle. Älä muuta funktiota mitenkaan!\n",
    "\n",
    "Pari käyttöesimerkkiä\n",
    "\n",
    "risulaatikko(5)\n",
    "print()\n",
    "risulaatikko(2)\n",
    "Esimerkkitulostus\n",
    "##########\n",
    "##########\n",
    "##########\n",
    "##########\n",
    "##########\n",
    "\n",
    "##########\n",
    "##########"
   ]
  },
  {
   "cell_type": "code",
   "execution_count": 7,
   "metadata": {},
   "outputs": [
    {
     "name": "stdout",
     "output_type": "stream",
     "text": [
      "##########\n",
      "##########\n",
      "##########\n",
      "##########\n",
      "##########\n"
     ]
    }
   ],
   "source": [
    "def risulaatikko(x=int):\n",
    "    for i in range (x):\n",
    "        leveys= 10\n",
    "        print(leveys * \"#\")\n",
    "        \n",
    "risulaatikko(5)"
   ]
  },
  {
   "attachments": {},
   "cell_type": "markdown",
   "metadata": {},
   "source": [
    "3.Tee funktio risunelio, joka piirtää risuaitamerkkiä käyttäen parametrinsa kokoisen risuneliön.\n",
    "\n",
    "Funktion tulee kutsua edellisen tehtävän funktiota viiva kaiken tulostuksen tekemiseen! Kopioi edellisen tehtävän funktion koodi tämän tehtävän funktion koodin yläpuolelle. Älä muuta funktiota mitenkaan!\n",
    "\n",
    "Pari käyttöesimerkkiä\n",
    "\n",
    "risunelio(5)\n",
    "print()\n",
    "risunelio(3)\n",
    "Esimerkkitulostus\n",
    "#####\n",
    "#####\n",
    "#####\n",
    "#####\n",
    "#####\n",
    "\n",
    "###\n",
    "###\n",
    "###"
   ]
  },
  {
   "cell_type": "code",
   "execution_count": 8,
   "metadata": {},
   "outputs": [
    {
     "name": "stdout",
     "output_type": "stream",
     "text": [
      "#####\n",
      "#####\n",
      "#####\n",
      "#####\n",
      "#####\n"
     ]
    }
   ],
   "source": [
    "def risulaatikko(x=int):\n",
    "    for i in range (x):\n",
    "        leveys= x\n",
    "        print(leveys * \"#\")\n",
    "        \n",
    "risulaatikko(5)"
   ]
  },
  {
   "attachments": {},
   "cell_type": "markdown",
   "metadata": {},
   "source": [
    "4.Tee funktio nelio, joka saa kaksi parametria. Funktio tulostaa neliön jonka korkeuden ja leveyden kertoo ensimmäinen parametri. Toinen parametri määrittelee mitä merkkiä käyttäen neliö piirretään.\n",
    "\n",
    "Funktion tulee kutsua edellisen tehtävän funktiota viiva kaiken tulostuksen tekemiseen! Kopioi edellisen tehtävän funktion koodi tämän tehtävän funktion koodin yläpuolelle. Älä muuta funktiota mitenkaan!\n",
    "\n",
    "Pari käyttöesimerkkiä\n",
    "\n",
    "nelio(5, \"*\")\n",
    "print()\n",
    "nelio(3, \"o\")\n",
    "Esimerkkitulostus\n",
    "*****\n",
    "*****\n",
    "*****\n",
    "*****\n",
    "*****\n",
    "\n",
    "ooo\n",
    "ooo\n",
    "ooo"
   ]
  },
  {
   "cell_type": "code",
   "execution_count": 13,
   "metadata": {},
   "outputs": [
    {
     "name": "stdout",
     "output_type": "stream",
     "text": [
      "ooooo\n",
      "ooooo\n",
      "ooooo\n",
      "ooooo\n",
      "ooooo\n"
     ]
    }
   ],
   "source": [
    "def nelio(koko=int, merkki= str):\n",
    "    for i in range(koko):\n",
    "        \n",
    "        print(koko*merkki)\n",
    "nelio(5, \"o\")\n"
   ]
  },
  {
   "attachments": {},
   "cell_type": "markdown",
   "metadata": {},
   "source": [
    "5.Tee funktio kolmio, joka piirtää risuaitamerkkiä käyttäen parametrinsa korkuisen ja levyisen, risuaitakolmion.\n",
    "\n",
    "Funktion tulee kutsua edellisen tehtävän funktiota viiva kaiken tulostuksen tekemiseen! Kopioi edellisen tehtävän funktion koodi tämän tehtävän funktion koodin yläpuolelle. Älä muuta funktiota mitenkaan!\n",
    "\n",
    "Pari käyttöesimerkkiä\n",
    "\n",
    "kolmio(6)\n",
    "print()\n",
    "kolmio(3)\n",
    "Esimerkkitulostus\n",
    "#\n",
    "##\n",
    "###\n",
    "####\n",
    "#####\n",
    "######\n",
    "\n",
    "#\n",
    "##\n",
    "###"
   ]
  },
  {
   "cell_type": "code",
   "execution_count": 15,
   "metadata": {},
   "outputs": [
    {
     "name": "stdout",
     "output_type": "stream",
     "text": [
      "\n",
      "#\n",
      "##\n",
      "###\n",
      "####\n",
      "#####\n",
      "######\n"
     ]
    }
   ],
   "source": [
    "def kolmio(x= int):\n",
    "    for i in range(x+1):\n",
    "        print(i * \"#\")\n",
    "kolmio(6)"
   ]
  },
  {
   "attachments": {},
   "cell_type": "markdown",
   "metadata": {},
   "source": [
    "6.Tee funktio kuvio, joka saa neljä parametria. Funktio tulostaa kuvion, jonka yläosana on kahden ensimmäisen parametrin määrittelemä kolmio ja alaosana ensimmäisen ja kahden jälkimmäisen parametrin määrittelemä suorakulmio.\n",
    "\n",
    "Funktion tulee kutsua edellisen tehtävän funktiota viiva kaiken tulostuksen tekemiseen! Kopioi edellisen tehtävän funktion koodi tämän tehtävän funktion koodin yläpuolelle.\n",
    "\n",
    "Pari käyttöesimerkkiä\n",
    "\n",
    "kuvio(5, \"X\", 3, \"*\")\n",
    "print()\n",
    "kuvio(2, \"o\", 4, \"+\")\n",
    "print()\n",
    "kuvio(3, \".\", 0, \",\")\n",
    "\n",
    "X\n",
    "XX\n",
    "XXX\n",
    "XXXX\n",
    "XXXXX\n",
    "*****\n",
    "*****\n",
    "*****\n",
    "\n",
    "o\n",
    "oo\n",
    "++\n",
    "++\n",
    "++\n",
    "++\n",
    "\n",
    ".\n",
    "..\n",
    "..."
   ]
  },
  {
   "cell_type": "code",
   "execution_count": 21,
   "metadata": {},
   "outputs": [
    {
     "name": "stdout",
     "output_type": "stream",
     "text": [
      "\n",
      "o\n",
      "oo\n",
      "++\n",
      "++\n",
      "++\n",
      "++\n"
     ]
    }
   ],
   "source": [
    "def kuvio(korkeus=int, merkki= str, korkeus1= int, merkki1= str):\n",
    "    for i in range(korkeus+1):\n",
    "        print(i*merkki)\n",
    "    for j in range (korkeus1):\n",
    "        print(korkeus*merkki1)\n",
    "\n",
    "kuvio(2, \"o\", 4, \"+\")\n"
   ]
  },
  {
   "attachments": {},
   "cell_type": "markdown",
   "metadata": {},
   "source": [
    "7.Tee funktio joulukuusi, joka saa yhden parametrin. Funktio tulostaa tekstin joulukuusi! ja parametrinsa kokoisen joulukuusen.\n",
    "\n",
    "Esim. kutsuttaessa joulukuusi(3) tulostuu\n",
    "\n",
    "Esimerkkitulostus\n",
    "joulukuusi!\n",
    "  *\n",
    " ***\n",
    "*****\n",
    "  *\n",
    "Esim. kutsuttaessa joulukuusi(5) tulostuu\n",
    "\n",
    "Esimerkkitulostus\n",
    "joulukuusi!\n",
    "    *\n",
    "   ***\n",
    "  *****\n",
    " *******\n",
    "*********\n",
    "    *"
   ]
  },
  {
   "cell_type": "code",
   "execution_count": 22,
   "metadata": {},
   "outputs": [
    {
     "ename": "TypeError",
     "evalue": "can't multiply sequence by non-int of type 'str'",
     "output_type": "error",
     "traceback": [
      "\u001b[0;31m---------------------------------------------------------------------------\u001b[0m",
      "\u001b[0;31mTypeError\u001b[0m                                 Traceback (most recent call last)",
      "Cell \u001b[0;32mIn[22], line 6\u001b[0m\n\u001b[1;32m      4\u001b[0m         \u001b[39mfor\u001b[39;00m j \u001b[39min\u001b[39;00m \u001b[39mrange\u001b[39m(x\u001b[39m+\u001b[39m\u001b[39m1\u001b[39m):\n\u001b[1;32m      5\u001b[0m             \u001b[39mprint\u001b[39m(\u001b[39m\"\u001b[39m\u001b[39m\"\u001b[39m \u001b[39m*\u001b[39m i \u001b[39m*\u001b[39m \u001b[39m\"\u001b[39m\u001b[39m\"\u001b[39m)\n\u001b[0;32m----> 6\u001b[0m joulukuusi(\u001b[39m5\u001b[39;49m)\n",
      "Cell \u001b[0;32mIn[22], line 3\u001b[0m, in \u001b[0;36mjoulukuusi\u001b[0;34m(x)\u001b[0m\n\u001b[1;32m      1\u001b[0m \u001b[39mdef\u001b[39;00m \u001b[39mjoulukuusi\u001b[39m(x\u001b[39m=\u001b[39m\u001b[39mint\u001b[39m):\n\u001b[1;32m      2\u001b[0m     \u001b[39mfor\u001b[39;00m i \u001b[39min\u001b[39;00m \u001b[39mrange\u001b[39m(x\u001b[39m+\u001b[39m\u001b[39m1\u001b[39m):\n\u001b[0;32m----> 3\u001b[0m         \u001b[39mprint\u001b[39m(\u001b[39m\"\u001b[39;49m\u001b[39m\"\u001b[39;49m \u001b[39m*\u001b[39;49m i \u001b[39m*\u001b[39;49m \u001b[39m\"\u001b[39;49m\u001b[39m\"\u001b[39;49m)\n\u001b[1;32m      4\u001b[0m         \u001b[39mfor\u001b[39;00m j \u001b[39min\u001b[39;00m \u001b[39mrange\u001b[39m(x\u001b[39m+\u001b[39m\u001b[39m1\u001b[39m):\n\u001b[1;32m      5\u001b[0m             \u001b[39mprint\u001b[39m(\u001b[39m\"\u001b[39m\u001b[39m\"\u001b[39m \u001b[39m*\u001b[39m i \u001b[39m*\u001b[39m \u001b[39m\"\u001b[39m\u001b[39m\"\u001b[39m)\n",
      "\u001b[0;31mTypeError\u001b[0m: can't multiply sequence by non-int of type 'str'"
     ]
    }
   ],
   "source": [
    "def joulukuusi(x=int):\n",
    "    for i in range(x+1):\n",
    "        print(\"\" * i *\"*\"* \"\")\n",
    "        \n",
    "        for j in range(x+1):\n",
    "            print(\"\" * i *\"*\" * \"\")\n",
    "joulukuusi(5)\n"
   ]
  }
 ],
 "metadata": {
  "kernelspec": {
   "display_name": "Python 3",
   "language": "python",
   "name": "python3"
  },
  "language_info": {
   "codemirror_mode": {
    "name": "ipython",
    "version": 3
   },
   "file_extension": ".py",
   "mimetype": "text/x-python",
   "name": "python",
   "nbconvert_exporter": "python",
   "pygments_lexer": "ipython3",
   "version": "3.11.2"
  },
  "orig_nbformat": 4
 },
 "nbformat": 4,
 "nbformat_minor": 2
}
